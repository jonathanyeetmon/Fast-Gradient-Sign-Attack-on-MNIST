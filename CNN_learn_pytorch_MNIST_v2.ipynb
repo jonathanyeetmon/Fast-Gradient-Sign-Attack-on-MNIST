{
 "cells": [
  {
   "cell_type": "code",
   "execution_count": 1,
   "metadata": {},
   "outputs": [],
   "source": [
    "import torch\n",
    "import torch.nn as nn\n",
    "import torch.nn.functional as F\n",
    "import torchvision\n",
    "import torchvision.transforms as transforms\n",
    "import matplotlib.pyplot as plt\n",
    "import numpy as np"
   ]
  },
  {
   "cell_type": "code",
   "execution_count": 2,
   "metadata": {},
   "outputs": [],
   "source": [
    "#hyper params\n",
    "num_epochs =5\n",
    "batch_size = 4\n",
    "learning_rate = 0.001"
   ]
  },
  {
   "cell_type": "code",
   "execution_count": 3,
   "metadata": {},
   "outputs": [],
   "source": [
    "\n",
    "\n",
    "train_dataset = torchvision.datasets.MNIST(root = './data', train = True, download = True, transform = transforms.ToTensor())\n",
    "test_dataset = torchvision.datasets.MNIST(root ='./data', train= False, download=True, transform = transforms.ToTensor())\n",
    "\n",
    "train_loader = torch.utils.data.DataLoader(train_dataset, batch_size, shuffle = True)\n",
    "test_loader = torch.utils.data.DataLoader(test_dataset, batch_size)"
   ]
  },
  {
   "cell_type": "code",
   "execution_count": 4,
   "metadata": {},
   "outputs": [],
   "source": [
    "# implement CNN\n",
    "class ConvNet(nn.Module):\n",
    "    def __init__(self):\n",
    "        super(ConvNet, self).__init__()\n",
    "        self.conv1 = nn.Conv2d(1, 6, 5) #input size, ouptut size, filer(kernel) size\n",
    "        self.pool = nn.MaxPool2d(2,2) # size of pool, and then the stride of the pool\n",
    "        self.conv2 = nn.Conv2d(6,16,5) # conv1 ouput size = conv2 input size\n",
    "        self.fc1 = nn.Linear(16*4*4, 120)\n",
    "        # 16*5*5 becasue after conv2, the output size is 4(batch_size),16(num_filters),5,5(l,w)\n",
    "        #we have to flatten the thing for lin reg, so thats why we change the input size\n",
    "        self.fc2 = nn.Linear(120,84)\n",
    "        self.fc3 = nn.Linear(84,10)\n",
    "        self.relu = nn.ReLU()\n",
    "        \n",
    "    def forward(self, x):\n",
    "        # conv layers\n",
    "        out = self.conv1(x)\n",
    "        out = self.relu(out)\n",
    "        out = self.pool(out)\n",
    "        out = self.conv2(out)\n",
    "        out = self.relu(out)\n",
    "        out = self.pool(out)\n",
    "        \n",
    "        #flatten to pass to linear layers\n",
    "        out = out.view(-1,16*4*4)\n",
    "        out = self.fc1(out)\n",
    "        out = self.relu(out)\n",
    "        out = self.fc2(out)\n",
    "        out = self.relu(out)\n",
    "        out = self.fc3(out)\n",
    "        \n",
    "        return out\n",
    "        "
   ]
  },
  {
   "cell_type": "code",
   "execution_count": 5,
   "metadata": {},
   "outputs": [
    {
     "name": "stdout",
     "output_type": "stream",
     "text": [
      "CUDA Available:  False\n"
     ]
    }
   ],
   "source": [
    "print(\"CUDA Available: \",torch.cuda.is_available())\n",
    "device = torch.device(\"cuda\" if (torch.cuda.is_available()) else \"cpu\")\n",
    "\n",
    "# Initialize the network\n",
    "model = ConvNet().to(device)\n",
    "\n",
    "\n",
    "criterion = nn.CrossEntropyLoss()\n",
    "optimizer = torch.optim.Adam(model.parameters(),lr = learning_rate)\n",
    "\n",
    "\n"
   ]
  },
  {
   "cell_type": "code",
   "execution_count": 6,
   "metadata": {},
   "outputs": [
    {
     "name": "stdout",
     "output_type": "stream",
     "text": [
      "Epoch:  1/5,  Step:  5000/15000,  Loss:  0.21614986658096313\n",
      "Epoch:  1/5,  Step:  10000/15000,  Loss:  0.30207422375679016\n",
      "Epoch:  1/5,  Step:  15000/15000,  Loss:  0.029919056221842766\n",
      "Epoch:  2/5,  Step:  5000/15000,  Loss:  0.07375909388065338\n",
      "Epoch:  2/5,  Step:  10000/15000,  Loss:  0.0016093271551653743\n",
      "Epoch:  2/5,  Step:  15000/15000,  Loss:  0.006552206818014383\n",
      "Epoch:  3/5,  Step:  5000/15000,  Loss:  0.45278868079185486\n",
      "Epoch:  3/5,  Step:  10000/15000,  Loss:  0.00463282223790884\n",
      "Epoch:  3/5,  Step:  15000/15000,  Loss:  0.5200854539871216\n",
      "Epoch:  4/5,  Step:  5000/15000,  Loss:  0.005285507533699274\n",
      "Epoch:  4/5,  Step:  10000/15000,  Loss:  2.1903755623498e-05\n",
      "Epoch:  4/5,  Step:  15000/15000,  Loss:  3.129231117782183e-06\n",
      "Epoch:  5/5,  Step:  5000/15000,  Loss:  0.0020429722499102354\n",
      "Epoch:  5/5,  Step:  10000/15000,  Loss:  0.0027493874076753855\n",
      "Epoch:  5/5,  Step:  15000/15000,  Loss:  1.2665774193010293e-05\n"
     ]
    }
   ],
   "source": [
    "#training loop\n",
    "for epoch in range(num_epochs):\n",
    "    for i, (images, labels) in enumerate(train_loader):\n",
    "        #forward pass\n",
    "        preds = model(images)\n",
    "        \n",
    "        #loss\n",
    "        loss = criterion(preds, labels)\n",
    "        \n",
    "        #backward pass\n",
    "        loss.backward()\n",
    "        \n",
    "        #update weights\n",
    "        optimizer.step()\n",
    "        \n",
    "        optimizer.zero_grad()\n",
    "        \n",
    "        if (i+1)%5000 == 0:\n",
    "            print(f'Epoch:  {epoch+1}/{num_epochs},  Step:  {i+1}/{len(train_loader)},  Loss:  {loss.item()}')"
   ]
  },
  {
   "cell_type": "code",
   "execution_count": 8,
   "metadata": {},
   "outputs": [],
   "source": [
    "#test\n",
    "with torch.no_grad():\n",
    "    total_correct = 0\n",
    "    total = 0\n",
    "    class_correct = [0 for i in range(10)]\n",
    "    class_total = [0 for i in range(10)]\n",
    "    for images, labels in test_loader:\n",
    "        outputs = model(images)\n",
    "        \n",
    "        _, predicted = torch.max(outputs,1)\n",
    "        total+= labels.shape[0]\n",
    "        total_correct += (predicted ==labels).sum().item()\n",
    "        \n",
    "        for i in range(batch_size):\n",
    "            class_total[labels[i]]+=1\n",
    "            if labels[i]== predicted[i]:\n",
    "                class_correct[labels[i]]+=1"
   ]
  },
  {
   "cell_type": "code",
   "execution_count": 9,
   "metadata": {},
   "outputs": [
    {
     "name": "stdout",
     "output_type": "stream",
     "text": [
      "Overall Accuracy:  98.79\n",
      "0 accuracy:  99.59183673469387\n",
      "1 accuracy:  99.20704845814979\n",
      "2 accuracy:  98.54651162790698\n",
      "3 accuracy:  99.20792079207921\n",
      "4 accuracy:  98.87983706720978\n",
      "5 accuracy:  98.87892376681614\n",
      "6 accuracy:  98.12108559498957\n",
      "7 accuracy:  98.5408560311284\n",
      "8 accuracy:  98.870636550308\n",
      "9 accuracy:  98.01783944499505\n"
     ]
    }
   ],
   "source": [
    "acc = 100.0 * total_correct/ total\n",
    "print(f'Overall Accuracy:  {acc}')\n",
    "class_acc =  [0 for i in range(10)]\n",
    "for i in range(10):\n",
    "    class_acc[i] = 100 * class_correct[i]/ class_total[i]\n",
    "    print(f'{i} accuracy:  {class_acc[i]}')"
   ]
  },
  {
   "cell_type": "code",
   "execution_count": 11,
   "metadata": {},
   "outputs": [
    {
     "data": {
      "text/plain": [
       "ConvNet(\n",
       "  (conv1): Conv2d(1, 6, kernel_size=(5, 5), stride=(1, 1))\n",
       "  (pool): MaxPool2d(kernel_size=2, stride=2, padding=0, dilation=1, ceil_mode=False)\n",
       "  (conv2): Conv2d(6, 16, kernel_size=(5, 5), stride=(1, 1))\n",
       "  (fc1): Linear(in_features=256, out_features=120, bias=True)\n",
       "  (fc2): Linear(in_features=120, out_features=84, bias=True)\n",
       "  (fc3): Linear(in_features=84, out_features=10, bias=True)\n",
       "  (relu): ReLU()\n",
       ")"
      ]
     },
     "execution_count": 11,
     "metadata": {},
     "output_type": "execute_result"
    }
   ],
   "source": [
    "PATH = 'CNN_learn_pytorch_MNIST_v2.pth'\n",
    "\n",
    "#save params\n",
    "torch.save(model.state_dict(), PATH)\n",
    "\n",
    "\n",
    "model = ConvNet()\n",
    "model.load_state_dict(torch.load(PATH))\n",
    "model.eval()\n",
    "\n"
   ]
  },
  {
   "cell_type": "code",
   "execution_count": null,
   "metadata": {},
   "outputs": [],
   "source": []
  }
 ],
 "metadata": {
  "kernelspec": {
   "display_name": "learnPytorch",
   "language": "python",
   "name": "learnpytorch"
  },
  "language_info": {
   "codemirror_mode": {
    "name": "ipython",
    "version": 3
   },
   "file_extension": ".py",
   "mimetype": "text/x-python",
   "name": "python",
   "nbconvert_exporter": "python",
   "pygments_lexer": "ipython3",
   "version": "3.10.4"
  }
 },
 "nbformat": 4,
 "nbformat_minor": 4
}
